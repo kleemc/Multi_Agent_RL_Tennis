{
 "cells": [
  {
   "cell_type": "markdown",
   "metadata": {},
   "source": [
    "# Collaboration and Competition\n",
    "\n",
    "---\n",
    "\n",
    "\n",
    "### 1. Start the Environment\n"
   ]
  },
  {
   "cell_type": "code",
   "execution_count": 9,
   "metadata": {},
   "outputs": [],
   "source": [
    "from unityagents import UnityEnvironment\n",
    "import numpy as np\n",
    "import matplotlib.pyplot as plt\n",
    "import torch\n",
    "from collections import deque\n",
    "from ddpg_agent import Agent"
   ]
  },
  {
   "cell_type": "markdown",
   "metadata": {},
   "source": [
    "**_Before running the code cell below_**, change the `file_name` parameter to match the location of the Unity environment that you downloaded.\n",
    "\n",
    "- **Mac**: `\"path/to/Tennis.app\"`\n",
    "- **Windows** (x86): `\"path/to/Tennis_Windows_x86/Tennis.exe\"`\n",
    "- **Windows** (x86_64): `\"path/to/Tennis_Windows_x86_64/Tennis.exe\"`\n",
    "- **Linux** (x86): `\"path/to/Tennis_Linux/Tennis.x86\"`\n",
    "- **Linux** (x86_64): `\"path/to/Tennis_Linux/Tennis.x86_64\"`\n",
    "- **Linux** (x86, headless): `\"path/to/Tennis_Linux_NoVis/Tennis.x86\"`\n",
    "- **Linux** (x86_64, headless): `\"path/to/Tennis_Linux_NoVis/Tennis.x86_64\"`\n",
    "\n",
    "For instance, if you are using a Mac, then you downloaded `Tennis.app`.  If this file is in the same folder as the notebook, then the line below should appear as follows:\n",
    "```\n",
    "env = UnityEnvironment(file_name=\"Tennis.app\")\n",
    "```"
   ]
  },
  {
   "cell_type": "code",
   "execution_count": 2,
   "metadata": {},
   "outputs": [
    {
     "name": "stderr",
     "output_type": "stream",
     "text": [
      "INFO:unityagents:\n",
      "'Academy' started successfully!\n",
      "Unity Academy name: Academy\n",
      "        Number of Brains: 1\n",
      "        Number of External Brains : 1\n",
      "        Lesson number : 0\n",
      "        Reset Parameters :\n",
      "\t\t\n",
      "Unity brain name: TennisBrain\n",
      "        Number of Visual Observations (per agent): 0\n",
      "        Vector Observation space type: continuous\n",
      "        Vector Observation space size (per agent): 8\n",
      "        Number of stacked Vector Observation: 3\n",
      "        Vector Action space type: continuous\n",
      "        Vector Action space size (per agent): 2\n",
      "        Vector Action descriptions: , \n"
     ]
    }
   ],
   "source": [
    "env = UnityEnvironment(file_name=\"Tennis_Windows_x86_64//tennis.exe\")"
   ]
  },
  {
   "cell_type": "markdown",
   "metadata": {},
   "source": [
    "Environments contain **_brains_** which are responsible for deciding the actions of their associated agents. Here we check for the first brain available, and set it as the default brain we will be controlling from Python."
   ]
  },
  {
   "cell_type": "code",
   "execution_count": 3,
   "metadata": {},
   "outputs": [],
   "source": [
    "# get the default brain\n",
    "brain_name = env.brain_names[0]\n",
    "brain = env.brains[brain_name]"
   ]
  },
  {
   "cell_type": "markdown",
   "metadata": {},
   "source": [
    "### 2. Examine the State and Action Spaces\n",
    "\n",
    "In this environment, two agents control rackets to bounce a ball over a net. If an agent hits the ball over the net, it receives a reward of +0.1.  If an agent lets a ball hit the ground or hits the ball out of bounds, it receives a reward of -0.01.  Thus, the goal of each agent is to keep the ball in play.\n",
    "\n",
    "The observation space consists of 8 variables corresponding to the position and velocity of the ball and racket. Two continuous actions are available, corresponding to movement toward (or away from) the net, and jumping. \n",
    "\n",
    "Run the code cell below to print some information about the environment."
   ]
  },
  {
   "cell_type": "code",
   "execution_count": 4,
   "metadata": {},
   "outputs": [
    {
     "name": "stdout",
     "output_type": "stream",
     "text": [
      "Number of agents: 2\n",
      "Size of each action: 2\n",
      "There are 2 agents. Each observes a state with length: 24\n",
      "The state for the first agent looks like: [ 0.          0.          0.          0.          0.          0.\n",
      "  0.          0.          0.          0.          0.          0.\n",
      "  0.          0.          0.          0.         -6.65278625 -1.5\n",
      " -0.          0.          6.83172083  6.         -0.          0.        ]\n"
     ]
    }
   ],
   "source": [
    "# reset the environment\n",
    "env_info = env.reset(train_mode=True)[brain_name]\n",
    "\n",
    "# number of agents \n",
    "num_agents = len(env_info.agents)\n",
    "print('Number of agents:', num_agents)\n",
    "\n",
    "# size of each action\n",
    "action_size = brain.vector_action_space_size\n",
    "print('Size of each action:', action_size)\n",
    "\n",
    "# examine the state space \n",
    "states = env_info.vector_observations\n",
    "state_size = states.shape[1]\n",
    "print('There are {} agents. Each observes a state with length: {}'.format(states.shape[0], state_size))\n",
    "print('The state for the first agent looks like:', states[0])"
   ]
  },
  {
   "cell_type": "markdown",
   "metadata": {},
   "source": [
    "### 3. Take Random Actions in the Environment\n",
    "\n",
    "In the next code cell, you will learn how to use the Python API to control the agents and receive feedback from the environment.\n",
    "\n",
    "Once this cell is executed, you will watch the agents' performance, if they select actions at random with each time step.  A window should pop up that allows you to observe the agents.\n",
    "\n",
    "Of course, as part of the project, you'll have to change the code so that the agents are able to use their experiences to gradually choose better actions when interacting with the environment!"
   ]
  },
  {
   "cell_type": "code",
   "execution_count": null,
   "metadata": {},
   "outputs": [],
   "source": [
    "for i in range(1, 6):                                      # play game for 5 episodes\n",
    "    env_info = env.reset(train_mode=False)[brain_name]     # reset the environment    \n",
    "    states = env_info.vector_observations                  # get the current state (for each agent)\n",
    "    scores = np.zeros(num_agents)                          # initialize the score (for each agent)\n",
    "    while True:\n",
    "        actions = np.random.randn(num_agents, action_size) # select an action (for each agent)\n",
    "        actions = np.clip(actions, -1, 1)                  # all actions between -1 and 1\n",
    "        env_info = env.step(actions)[brain_name]           # send all actions to tne environment\n",
    "        next_states = env_info.vector_observations         # get next state (for each agent)\n",
    "        rewards = env_info.rewards                         # get reward (for each agent)\n",
    "        dones = env_info.local_done                        # see if episode finished\n",
    "        scores += env_info.rewards                         # update the score (for each agent)\n",
    "        states = next_states                               # roll over states to next time step\n",
    "        if np.any(dones):                                  # exit loop if episode finished\n",
    "            break\n",
    "    print('Score (max over agents) from episode {}: {}'.format(i, np.max(scores)))"
   ]
  },
  {
   "cell_type": "markdown",
   "metadata": {},
   "source": [
    "When finished, you can close the environment."
   ]
  },
  {
   "cell_type": "code",
   "execution_count": 12,
   "metadata": {},
   "outputs": [],
   "source": [
    "env.close()"
   ]
  },
  {
   "cell_type": "markdown",
   "metadata": {},
   "source": [
    "### 4. Training the Agents\n",
    "\n",
    "The following section trains the agents.   To run the following code, ensure \"model.py\" and \"ddpg_agent.py\" are located in the same folder as this notebook.   model.py sets up the Actor and Critic neural networks and ddpg_agent.py contains the ddpg algorithm which calls on the neural networks in model.py.\n",
    "\n",
    "Tweak the hyper-parameters in this section, the network architecture in the model.py or the hyper-paremeters in ddpg_agent.py to see how they alter the training performance."
   ]
  },
  {
   "cell_type": "code",
   "execution_count": 7,
   "metadata": {},
   "outputs": [],
   "source": [
    "def ddpg(n_episodes=2000, max_ts=1000):\n",
    "    \n",
    "    # Set-up variables\n",
    "    scores_deque = deque(maxlen=100)   # a deque of scores\n",
    "    cum_score = []      # stores the sequence of scores.  Return this list.\n",
    "    print_episodes = 50 # print results every x episodes\n",
    "    random_seed = 8\n",
    "    \n",
    "    # Hyper-parameters\n",
    "    learn_steps = 10  # go x number of steps and then learn\n",
    "    learning_episodes = 20  # everytime the agent learns,  learn x episodes\n",
    "    batch_size = 128   # batch size for learning\n",
    "\n",
    "    # Create agent\n",
    "    agent = Agent(num_agents, state_size, action_size, random_seed, batch_size)\n",
    "    print(\"\\nlearn_steps : {}  batch_size : {}  learn_episode : {}  seed : {}\\n\"\n",
    "          .format(learn_steps, batch_size, learning_episodes, random_seed))\n",
    "\n",
    "    for i_episode in range(1, n_episodes + 1):\n",
    "\n",
    "        # This section reset environment and parameters for a new episode        \n",
    "        env_info = env.reset(train_mode=True)[brain_name]  # reset the environment because this is a new episode\n",
    "        states = env_info.vector_observations  # get the current state (for each agent) because this is a new episode\n",
    "        scores = np.zeros(num_agents)  # initialize the score (for each agent) because this is a new episode\n",
    "        agent.reset()  # reset noise\n",
    "\n",
    "        for t_step in range(max_ts):\n",
    "            actions = agent.act(states)\n",
    "\n",
    "            env_info = env.step(actions)[brain_name]\n",
    "            next_states = env_info.vector_observations  # get next state (for each agent)\n",
    "            rewards = env_info.rewards  # get reward (for each agent)\n",
    "            dones = env_info.local_done  # see if episode finished\n",
    "\n",
    "            # Store experience in replay buffer memory\n",
    "            for state, action, reward, next_state, done in zip(states, actions, rewards, next_states, dones):\n",
    "                agent.memory.add(state, action, reward, next_state, done)\n",
    "\n",
    "            # Learn every learn_steps and if there are enough experience in the memory\n",
    "            if t_step % learn_steps == 0 and len(agent.memory) > batch_size:\n",
    "                agent.step(learning_episodes)\n",
    "\n",
    "            states = next_states  # update states to next states\n",
    "            scores += rewards  # update the score (for each agent)\n",
    "            if np.any(dones):  # exit loop if episode finished\n",
    "                break\n",
    "\n",
    "        max_score = np.max(scores)\n",
    "        scores_deque.append(max_score)\n",
    "        avg = np.average(scores_deque)\n",
    "        cum_score.append(max_score)\n",
    "\n",
    "        print(\"\\rEpisode {}\\tScore : {:.2f}\\tAvg : {:.2f} \\tTotal : {:.2f}  \\tMax :  {:.2f}\".\n",
    "              format(i_episode, max_score, avg, np.sum(scores_deque), np.max(scores_deque)), end=\"\")\n",
    "\n",
    "        if avg >= 0.5:\n",
    "            print(\"\\nAgent successfully trained in {} episodes. Average Score ={:.2f}\".format(i_episode, avg))\n",
    "            torch.save(agent.actor_local.state_dict(), \"actor.path\")\n",
    "            torch.save(agent.critic_local.state_dict(), \"critic.path\")\n",
    "            break\n",
    "\n",
    "        if i_episode % print_episodes == 0:\n",
    "            print(\"\")\n",
    "\n",
    "    return cum_score\n"
   ]
  },
  {
   "cell_type": "code",
   "execution_count": 8,
   "metadata": {},
   "outputs": [
    {
     "name": "stdout",
     "output_type": "stream",
     "text": [
      "\n",
      "learn_steps : 10  batch_size : 128  learn_episode : 20  seed : 8\n",
      "\n",
      "Episode 50\tScore : 0.00\tAvg : 0.01 \tTotal : 0.47  \tMax :  0.10\n",
      "Episode 100\tScore : 0.00\tAvg : 0.01 \tTotal : 0.77  \tMax :  0.10\n",
      "Episode 150\tScore : 0.09\tAvg : 0.03 \tTotal : 3.41  \tMax :  0.20\n",
      "Episode 200\tScore : 0.10\tAvg : 0.06 \tTotal : 5.73  \tMax :  0.20\n",
      "Episode 250\tScore : 0.10\tAvg : 0.05 \tTotal : 4.75  \tMax :  0.20\n",
      "Episode 300\tScore : 0.10\tAvg : 0.07 \tTotal : 6.52  \tMax :  0.20\n",
      "Episode 350\tScore : 0.00\tAvg : 0.09 \tTotal : 8.85  \tMax :  0.30\n",
      "Episode 400\tScore : 0.10\tAvg : 0.08 \tTotal : 7.86  \tMax :  0.30\n",
      "Episode 450\tScore : 0.09\tAvg : 0.09 \tTotal : 8.91  \tMax :  0.29\n",
      "Episode 500\tScore : 0.00\tAvg : 0.12 \tTotal : 11.84  \tMax :  0.30\n",
      "Episode 550\tScore : 0.10\tAvg : 0.16 \tTotal : 15.56  \tMax :  1.20\n",
      "Episode 599\tScore : 2.60\tAvg : 0.51 \tTotal : 50.93  \tMax :  2.70\n",
      "Agent successfully trained in 599 episodes. Average Score =0.51\n"
     ]
    }
   ],
   "source": [
    "scores = ddpg()"
   ]
  },
  {
   "cell_type": "code",
   "execution_count": 10,
   "metadata": {},
   "outputs": [
    {
     "data": {
      "image/png": "[encoded data removed]",
      "text/plain": [
       "<Figure size 432x288 with 1 Axes>"
      ]
     },
     "metadata": {},
     "output_type": "display_data"
    }
   ],
   "source": [
    "fig = plt.figure()\n",
    "ax = fig.add_subplot(111)\n",
    "plt.plot(np.arange(1, len(scores)+1), scores)\n",
    "plt.ylabel('Scores')\n",
    "plt.xlabel('Episode #')\n",
    "plt.show()"
   ]
  }
 ],
 "metadata": {
  "kernelspec": {
   "display_name": "Python 3",
   "language": "python",
   "name": "python3"
  },
  "language_info": {
   "codemirror_mode": {
    "name": "ipython",
    "version": 3
   },
   "file_extension": ".py",
   "mimetype": "text/x-python",
   "name": "python",
   "nbconvert_exporter": "python",
   "pygments_lexer": "ipython3",
   "version": "3.6.6"
  }
 },
 "nbformat": 4,
 "nbformat_minor": 2
}
